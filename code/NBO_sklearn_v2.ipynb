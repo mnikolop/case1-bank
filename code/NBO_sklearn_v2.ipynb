{
 "cells": [
  {
   "cell_type": "code",
   "execution_count": 14,
   "metadata": {},
   "outputs": [],
   "source": [
    "#Import libraries\n",
    "import graphviz\n",
    "import sklearn \n",
    "from sklearn.preprocessing import StandardScaler\n",
    "from sklearn.linear_model import LogisticRegression\n",
    "from sklearn.pipeline import Pipeline\n",
    "from sklearn.pipeline import make_pipeline\n",
    "from sklearn.datasets import load_iris\n",
    "from sklearn.model_selection import train_test_split\n",
    "from sklearn.metrics import accuracy_score\n",
    "from sklearn.decomposition import PCA\n",
    "from sklearn.svm import SVC\n",
    "from sklearn.tree import plot_tree\n",
    "from sklearn.tree import DecisionTreeClassifier\n",
    "from sklearn.model_selection import cross_val_score\n",
    "from sklearn.datasets import load_iris\n",
    "from sklearn import tree\n",
    "from sklearn.preprocessing import OneHotEncoder\n",
    "from sklearn.compose import make_column_transformer\n",
    "from sklearn.tree import export_text\n",
    "\n",
    "# import tensorflow as tf  # acts as the framework upon which this model is built\n",
    "import numpy as np  # basic scientific computation\n",
    "import pandas as pd #for data science\n",
    "import scipy\n",
    "import matplotlib.pyplot as plt #ploting \n",
    "import seaborn as sns; sns.set_style('darkgrid') #ploting\n",
    "my_dpi=96 #dots per inch. Used in the size of the plots\n",
    " \n",
    "import csv #library for handling csv files \n",
    "\n",
    "\n"
   ]
  },
  {
   "cell_type": "code",
   "execution_count": 3,
   "metadata": {},
   "outputs": [],
   "source": [
    "df = pd.read_csv('bank/bank-full.csv', sep=';')"
   ]
  },
  {
   "cell_type": "code",
   "execution_count": 4,
   "metadata": {},
   "outputs": [],
   "source": [
    "\n",
    "# Group age by percentages of 10\n",
    "labels = [0] + [f'{i+10}' for i in range(10, 100, 10)]\n",
    "df['age_groups'] = pd.qcut(df['age'], 10, labels=labels)\n",
    "df.age_groups = df.age_groups.astype(\"int\")\n",
    "# print(df[['age', 'age_groups']])\n"
   ]
  },
  {
   "cell_type": "code",
   "execution_count": 5,
   "metadata": {},
   "outputs": [],
   "source": [
    "# Split useable and target group\n",
    "useColumns = df[['age', 'age_groups', 'job', 'marital',  'education', 'default', 'balance', 'housing', 'loan',\n",
    "                 'contact', 'day', 'month', 'duration', 'campaign', 'pdays', 'previous', 'poutcome']]\n",
    "target = df[['y']]\n"
   ]
  },
  {
   "cell_type": "code",
   "execution_count": 6,
   "metadata": {},
   "outputs": [
    {
     "name": "stderr",
     "output_type": "stream",
     "text": [
      "c:\\ProgramData\\Anaconda3\\envs\\thisone\\lib\\site-packages\\sklearn\\utils\\deprecation.py:87: FutureWarning: Function get_feature_names is deprecated; get_feature_names is deprecated in 1.0 and will be removed in 1.2. Please use get_feature_names_out instead.\n",
      "  warnings.warn(msg, category=FutureWarning)\n"
     ]
    }
   ],
   "source": [
    "\n",
    "transformer = make_column_transformer(\n",
    "    (OneHotEncoder(), ['job', 'marital', 'education', 'default', 'housing', 'loan', 'contact', 'month', 'poutcome']),\n",
    "    remainder='passthrough')\n",
    "transformed = transformer.fit_transform(useColumns)\n",
    "transformed_df = pd.DataFrame(\n",
    "    transformed, columns=transformer.get_feature_names())\n",
    "# print(transformed_df.head())\n"
   ]
  },
  {
   "cell_type": "code",
   "execution_count": 7,
   "metadata": {},
   "outputs": [],
   "source": [
    "# Correlation of variables.\n",
    "# df.corr()"
   ]
  },
  {
   "cell_type": "code",
   "execution_count": 8,
   "metadata": {},
   "outputs": [],
   "source": [
    "clf = tree.DecisionTreeClassifier()\n",
    "clf = clf.fit(transformed_df, target)\n"
   ]
  },
  {
   "cell_type": "code",
   "execution_count": null,
   "metadata": {},
   "outputs": [],
   "source": [
    "tree.plot_tree(clf)\n",
    "\n"
   ]
  },
  {
   "cell_type": "code",
   "execution_count": 35,
   "metadata": {},
   "outputs": [
    {
     "name": "stdout",
     "output_type": "stream",
     "text": [
      "|--- duration <= 521.50\n",
      "|   |--- onehotencoder__x8_success <= 0.50\n",
      "|   |   |--- class: no\n",
      "|   |--- onehotencoder__x8_success >  0.50\n",
      "|   |   |--- class: yes\n",
      "|--- duration >  521.50\n",
      "|   |--- duration <= 827.50\n",
      "|   |   |--- class: no\n",
      "|   |--- duration >  827.50\n",
      "|   |   |--- class: yes\n",
      "\n"
     ]
    }
   ],
   "source": [
    "\n",
    "decision_tree = DecisionTreeClassifier(random_state=0, max_depth=2)\n",
    "decision_tree = decision_tree.fit(transformed_df, target)\n",
    "r = export_text(decision_tree, feature_names=transformed_df.columns.tolist())\n",
    "print(r)"
   ]
  },
  {
   "cell_type": "code",
   "execution_count": 39,
   "metadata": {},
   "outputs": [
    {
     "data": {
      "text/plain": [
       "['onehotencoder__x0_admin.',\n",
       " 'onehotencoder__x0_blue-collar',\n",
       " 'onehotencoder__x0_entrepreneur',\n",
       " 'onehotencoder__x0_housemaid',\n",
       " 'onehotencoder__x0_management',\n",
       " 'onehotencoder__x0_retired',\n",
       " 'onehotencoder__x0_self-employed',\n",
       " 'onehotencoder__x0_services',\n",
       " 'onehotencoder__x0_student',\n",
       " 'onehotencoder__x0_technician',\n",
       " 'onehotencoder__x0_unemployed',\n",
       " 'onehotencoder__x0_unknown',\n",
       " 'onehotencoder__x1_divorced',\n",
       " 'onehotencoder__x1_married',\n",
       " 'onehotencoder__x1_single',\n",
       " 'onehotencoder__x2_primary',\n",
       " 'onehotencoder__x2_secondary',\n",
       " 'onehotencoder__x2_tertiary',\n",
       " 'onehotencoder__x2_unknown',\n",
       " 'onehotencoder__x3_no',\n",
       " 'onehotencoder__x3_yes',\n",
       " 'onehotencoder__x4_no',\n",
       " 'onehotencoder__x4_yes',\n",
       " 'onehotencoder__x5_no',\n",
       " 'onehotencoder__x5_yes',\n",
       " 'onehotencoder__x6_cellular',\n",
       " 'onehotencoder__x6_telephone',\n",
       " 'onehotencoder__x6_unknown',\n",
       " 'onehotencoder__x7_apr',\n",
       " 'onehotencoder__x7_aug',\n",
       " 'onehotencoder__x7_dec',\n",
       " 'onehotencoder__x7_feb',\n",
       " 'onehotencoder__x7_jan',\n",
       " 'onehotencoder__x7_jul',\n",
       " 'onehotencoder__x7_jun',\n",
       " 'onehotencoder__x7_mar',\n",
       " 'onehotencoder__x7_may',\n",
       " 'onehotencoder__x7_nov',\n",
       " 'onehotencoder__x7_oct',\n",
       " 'onehotencoder__x7_sep',\n",
       " 'onehotencoder__x8_failure',\n",
       " 'onehotencoder__x8_other',\n",
       " 'onehotencoder__x8_success',\n",
       " 'onehotencoder__x8_unknown',\n",
       " 'age',\n",
       " 'age_groups',\n",
       " 'balance',\n",
       " 'day',\n",
       " 'duration',\n",
       " 'campaign',\n",
       " 'pdays',\n",
       " 'previous']"
      ]
     },
     "execution_count": 39,
     "metadata": {},
     "output_type": "execute_result"
    }
   ],
   "source": [
    "transformed_df.columns.tolist()\n"
   ]
  },
  {
   "cell_type": "code",
   "execution_count": 37,
   "metadata": {},
   "outputs": [
    {
     "ename": "IndexError",
     "evalue": "list index out of range",
     "output_type": "error",
     "traceback": [
      "\u001b[1;31m---------------------------------------------------------------------------\u001b[0m",
      "\u001b[1;31mIndexError\u001b[0m                                Traceback (most recent call last)",
      "Cell \u001b[1;32mIn [37], line 1\u001b[0m\n\u001b[1;32m----> 1\u001b[0m dot_data \u001b[39m=\u001b[39m tree\u001b[39m.\u001b[39mexport_graphviz(clf, out_file\u001b[39m=\u001b[39m\u001b[39mNone\u001b[39;00m, feature_names\u001b[39m=\u001b[39mtransformed_df\u001b[39m.\u001b[39mcolumns\u001b[39m.\u001b[39mtolist(),\n\u001b[0;32m      2\u001b[0m                                 class_names\u001b[39m=\u001b[39mtarget\u001b[39m.\u001b[39mcolumns\u001b[39m.\u001b[39mtolist(), filled\u001b[39m=\u001b[39m\u001b[39mTrue\u001b[39;00m, rounded\u001b[39m=\u001b[39m\u001b[39mTrue\u001b[39;00m, special_characters\u001b[39m=\u001b[39m\u001b[39mTrue\u001b[39;00m)\n\u001b[0;32m      3\u001b[0m graph \u001b[39m=\u001b[39m graphviz\u001b[39m.\u001b[39mSource(dot_data)  \n\u001b[0;32m      4\u001b[0m graph\n",
      "File \u001b[1;32mc:\\ProgramData\\Anaconda3\\envs\\thisone\\lib\\site-packages\\sklearn\\tree\\_export.py:889\u001b[0m, in \u001b[0;36mexport_graphviz\u001b[1;34m(decision_tree, out_file, max_depth, feature_names, class_names, label, filled, leaves_parallel, impurity, node_ids, proportion, rotate, rounded, special_characters, precision, fontname)\u001b[0m\n\u001b[0;32m    870\u001b[0m     out_file \u001b[39m=\u001b[39m StringIO()\n\u001b[0;32m    872\u001b[0m exporter \u001b[39m=\u001b[39m _DOTTreeExporter(\n\u001b[0;32m    873\u001b[0m     out_file\u001b[39m=\u001b[39mout_file,\n\u001b[0;32m    874\u001b[0m     max_depth\u001b[39m=\u001b[39mmax_depth,\n\u001b[1;32m   (...)\u001b[0m\n\u001b[0;32m    887\u001b[0m     fontname\u001b[39m=\u001b[39mfontname,\n\u001b[0;32m    888\u001b[0m )\n\u001b[1;32m--> 889\u001b[0m exporter\u001b[39m.\u001b[39;49mexport(decision_tree)\n\u001b[0;32m    891\u001b[0m \u001b[39mif\u001b[39;00m return_string:\n\u001b[0;32m    892\u001b[0m     \u001b[39mreturn\u001b[39;00m exporter\u001b[39m.\u001b[39mout_file\u001b[39m.\u001b[39mgetvalue()\n",
      "File \u001b[1;32mc:\\ProgramData\\Anaconda3\\envs\\thisone\\lib\\site-packages\\sklearn\\tree\\_export.py:462\u001b[0m, in \u001b[0;36m_DOTTreeExporter.export\u001b[1;34m(self, decision_tree)\u001b[0m\n\u001b[0;32m    460\u001b[0m     \u001b[39mself\u001b[39m\u001b[39m.\u001b[39mrecurse(decision_tree, \u001b[39m0\u001b[39m, criterion\u001b[39m=\u001b[39m\u001b[39m\"\u001b[39m\u001b[39mimpurity\u001b[39m\u001b[39m\"\u001b[39m)\n\u001b[0;32m    461\u001b[0m \u001b[39melse\u001b[39;00m:\n\u001b[1;32m--> 462\u001b[0m     \u001b[39mself\u001b[39;49m\u001b[39m.\u001b[39;49mrecurse(decision_tree\u001b[39m.\u001b[39;49mtree_, \u001b[39m0\u001b[39;49m, criterion\u001b[39m=\u001b[39;49mdecision_tree\u001b[39m.\u001b[39;49mcriterion)\n\u001b[0;32m    464\u001b[0m \u001b[39mself\u001b[39m\u001b[39m.\u001b[39mtail()\n",
      "File \u001b[1;32mc:\\ProgramData\\Anaconda3\\envs\\thisone\\lib\\site-packages\\sklearn\\tree\\_export.py:544\u001b[0m, in \u001b[0;36m_DOTTreeExporter.recurse\u001b[1;34m(self, tree, node_id, criterion, parent, depth)\u001b[0m\n\u001b[0;32m    541\u001b[0m         \u001b[39mself\u001b[39m\u001b[39m.\u001b[39mout_file\u001b[39m.\u001b[39mwrite(\u001b[39m\"\u001b[39m\u001b[39m ;\u001b[39m\u001b[39m\\n\u001b[39;00m\u001b[39m\"\u001b[39m)\n\u001b[0;32m    543\u001b[0m     \u001b[39mif\u001b[39;00m left_child \u001b[39m!=\u001b[39m _tree\u001b[39m.\u001b[39mTREE_LEAF:\n\u001b[1;32m--> 544\u001b[0m         \u001b[39mself\u001b[39;49m\u001b[39m.\u001b[39;49mrecurse(\n\u001b[0;32m    545\u001b[0m             tree,\n\u001b[0;32m    546\u001b[0m             left_child,\n\u001b[0;32m    547\u001b[0m             criterion\u001b[39m=\u001b[39;49mcriterion,\n\u001b[0;32m    548\u001b[0m             parent\u001b[39m=\u001b[39;49mnode_id,\n\u001b[0;32m    549\u001b[0m             depth\u001b[39m=\u001b[39;49mdepth \u001b[39m+\u001b[39;49m \u001b[39m1\u001b[39;49m,\n\u001b[0;32m    550\u001b[0m         )\n\u001b[0;32m    551\u001b[0m         \u001b[39mself\u001b[39m\u001b[39m.\u001b[39mrecurse(\n\u001b[0;32m    552\u001b[0m             tree,\n\u001b[0;32m    553\u001b[0m             right_child,\n\u001b[1;32m   (...)\u001b[0m\n\u001b[0;32m    556\u001b[0m             depth\u001b[39m=\u001b[39mdepth \u001b[39m+\u001b[39m \u001b[39m1\u001b[39m,\n\u001b[0;32m    557\u001b[0m         )\n\u001b[0;32m    559\u001b[0m \u001b[39melse\u001b[39;00m:\n",
      "File \u001b[1;32mc:\\ProgramData\\Anaconda3\\envs\\thisone\\lib\\site-packages\\sklearn\\tree\\_export.py:544\u001b[0m, in \u001b[0;36m_DOTTreeExporter.recurse\u001b[1;34m(self, tree, node_id, criterion, parent, depth)\u001b[0m\n\u001b[0;32m    541\u001b[0m         \u001b[39mself\u001b[39m\u001b[39m.\u001b[39mout_file\u001b[39m.\u001b[39mwrite(\u001b[39m\"\u001b[39m\u001b[39m ;\u001b[39m\u001b[39m\\n\u001b[39;00m\u001b[39m\"\u001b[39m)\n\u001b[0;32m    543\u001b[0m     \u001b[39mif\u001b[39;00m left_child \u001b[39m!=\u001b[39m _tree\u001b[39m.\u001b[39mTREE_LEAF:\n\u001b[1;32m--> 544\u001b[0m         \u001b[39mself\u001b[39;49m\u001b[39m.\u001b[39;49mrecurse(\n\u001b[0;32m    545\u001b[0m             tree,\n\u001b[0;32m    546\u001b[0m             left_child,\n\u001b[0;32m    547\u001b[0m             criterion\u001b[39m=\u001b[39;49mcriterion,\n\u001b[0;32m    548\u001b[0m             parent\u001b[39m=\u001b[39;49mnode_id,\n\u001b[0;32m    549\u001b[0m             depth\u001b[39m=\u001b[39;49mdepth \u001b[39m+\u001b[39;49m \u001b[39m1\u001b[39;49m,\n\u001b[0;32m    550\u001b[0m         )\n\u001b[0;32m    551\u001b[0m         \u001b[39mself\u001b[39m\u001b[39m.\u001b[39mrecurse(\n\u001b[0;32m    552\u001b[0m             tree,\n\u001b[0;32m    553\u001b[0m             right_child,\n\u001b[1;32m   (...)\u001b[0m\n\u001b[0;32m    556\u001b[0m             depth\u001b[39m=\u001b[39mdepth \u001b[39m+\u001b[39m \u001b[39m1\u001b[39m,\n\u001b[0;32m    557\u001b[0m         )\n\u001b[0;32m    559\u001b[0m \u001b[39melse\u001b[39;00m:\n",
      "    \u001b[1;31m[... skipping similar frames: _DOTTreeExporter.recurse at line 544 (12 times)]\u001b[0m\n",
      "File \u001b[1;32mc:\\ProgramData\\Anaconda3\\envs\\thisone\\lib\\site-packages\\sklearn\\tree\\_export.py:544\u001b[0m, in \u001b[0;36m_DOTTreeExporter.recurse\u001b[1;34m(self, tree, node_id, criterion, parent, depth)\u001b[0m\n\u001b[0;32m    541\u001b[0m         \u001b[39mself\u001b[39m\u001b[39m.\u001b[39mout_file\u001b[39m.\u001b[39mwrite(\u001b[39m\"\u001b[39m\u001b[39m ;\u001b[39m\u001b[39m\\n\u001b[39;00m\u001b[39m\"\u001b[39m)\n\u001b[0;32m    543\u001b[0m     \u001b[39mif\u001b[39;00m left_child \u001b[39m!=\u001b[39m _tree\u001b[39m.\u001b[39mTREE_LEAF:\n\u001b[1;32m--> 544\u001b[0m         \u001b[39mself\u001b[39;49m\u001b[39m.\u001b[39;49mrecurse(\n\u001b[0;32m    545\u001b[0m             tree,\n\u001b[0;32m    546\u001b[0m             left_child,\n\u001b[0;32m    547\u001b[0m             criterion\u001b[39m=\u001b[39;49mcriterion,\n\u001b[0;32m    548\u001b[0m             parent\u001b[39m=\u001b[39;49mnode_id,\n\u001b[0;32m    549\u001b[0m             depth\u001b[39m=\u001b[39;49mdepth \u001b[39m+\u001b[39;49m \u001b[39m1\u001b[39;49m,\n\u001b[0;32m    550\u001b[0m         )\n\u001b[0;32m    551\u001b[0m         \u001b[39mself\u001b[39m\u001b[39m.\u001b[39mrecurse(\n\u001b[0;32m    552\u001b[0m             tree,\n\u001b[0;32m    553\u001b[0m             right_child,\n\u001b[1;32m   (...)\u001b[0m\n\u001b[0;32m    556\u001b[0m             depth\u001b[39m=\u001b[39mdepth \u001b[39m+\u001b[39m \u001b[39m1\u001b[39m,\n\u001b[0;32m    557\u001b[0m         )\n\u001b[0;32m    559\u001b[0m \u001b[39melse\u001b[39;00m:\n",
      "File \u001b[1;32mc:\\ProgramData\\Anaconda3\\envs\\thisone\\lib\\site-packages\\sklearn\\tree\\_export.py:551\u001b[0m, in \u001b[0;36m_DOTTreeExporter.recurse\u001b[1;34m(self, tree, node_id, criterion, parent, depth)\u001b[0m\n\u001b[0;32m    543\u001b[0m     \u001b[39mif\u001b[39;00m left_child \u001b[39m!=\u001b[39m _tree\u001b[39m.\u001b[39mTREE_LEAF:\n\u001b[0;32m    544\u001b[0m         \u001b[39mself\u001b[39m\u001b[39m.\u001b[39mrecurse(\n\u001b[0;32m    545\u001b[0m             tree,\n\u001b[0;32m    546\u001b[0m             left_child,\n\u001b[1;32m   (...)\u001b[0m\n\u001b[0;32m    549\u001b[0m             depth\u001b[39m=\u001b[39mdepth \u001b[39m+\u001b[39m \u001b[39m1\u001b[39m,\n\u001b[0;32m    550\u001b[0m         )\n\u001b[1;32m--> 551\u001b[0m         \u001b[39mself\u001b[39;49m\u001b[39m.\u001b[39;49mrecurse(\n\u001b[0;32m    552\u001b[0m             tree,\n\u001b[0;32m    553\u001b[0m             right_child,\n\u001b[0;32m    554\u001b[0m             criterion\u001b[39m=\u001b[39;49mcriterion,\n\u001b[0;32m    555\u001b[0m             parent\u001b[39m=\u001b[39;49mnode_id,\n\u001b[0;32m    556\u001b[0m             depth\u001b[39m=\u001b[39;49mdepth \u001b[39m+\u001b[39;49m \u001b[39m1\u001b[39;49m,\n\u001b[0;32m    557\u001b[0m         )\n\u001b[0;32m    559\u001b[0m \u001b[39melse\u001b[39;00m:\n\u001b[0;32m    560\u001b[0m     \u001b[39mself\u001b[39m\u001b[39m.\u001b[39mranks[\u001b[39m\"\u001b[39m\u001b[39mleaves\u001b[39m\u001b[39m\"\u001b[39m]\u001b[39m.\u001b[39mappend(\u001b[39mstr\u001b[39m(node_id))\n",
      "File \u001b[1;32mc:\\ProgramData\\Anaconda3\\envs\\thisone\\lib\\site-packages\\sklearn\\tree\\_export.py:551\u001b[0m, in \u001b[0;36m_DOTTreeExporter.recurse\u001b[1;34m(self, tree, node_id, criterion, parent, depth)\u001b[0m\n\u001b[0;32m    543\u001b[0m     \u001b[39mif\u001b[39;00m left_child \u001b[39m!=\u001b[39m _tree\u001b[39m.\u001b[39mTREE_LEAF:\n\u001b[0;32m    544\u001b[0m         \u001b[39mself\u001b[39m\u001b[39m.\u001b[39mrecurse(\n\u001b[0;32m    545\u001b[0m             tree,\n\u001b[0;32m    546\u001b[0m             left_child,\n\u001b[1;32m   (...)\u001b[0m\n\u001b[0;32m    549\u001b[0m             depth\u001b[39m=\u001b[39mdepth \u001b[39m+\u001b[39m \u001b[39m1\u001b[39m,\n\u001b[0;32m    550\u001b[0m         )\n\u001b[1;32m--> 551\u001b[0m         \u001b[39mself\u001b[39;49m\u001b[39m.\u001b[39;49mrecurse(\n\u001b[0;32m    552\u001b[0m             tree,\n\u001b[0;32m    553\u001b[0m             right_child,\n\u001b[0;32m    554\u001b[0m             criterion\u001b[39m=\u001b[39;49mcriterion,\n\u001b[0;32m    555\u001b[0m             parent\u001b[39m=\u001b[39;49mnode_id,\n\u001b[0;32m    556\u001b[0m             depth\u001b[39m=\u001b[39;49mdepth \u001b[39m+\u001b[39;49m \u001b[39m1\u001b[39;49m,\n\u001b[0;32m    557\u001b[0m         )\n\u001b[0;32m    559\u001b[0m \u001b[39melse\u001b[39;00m:\n\u001b[0;32m    560\u001b[0m     \u001b[39mself\u001b[39m\u001b[39m.\u001b[39mranks[\u001b[39m\"\u001b[39m\u001b[39mleaves\u001b[39m\u001b[39m\"\u001b[39m]\u001b[39m.\u001b[39mappend(\u001b[39mstr\u001b[39m(node_id))\n",
      "File \u001b[1;32mc:\\ProgramData\\Anaconda3\\envs\\thisone\\lib\\site-packages\\sklearn\\tree\\_export.py:521\u001b[0m, in \u001b[0;36m_DOTTreeExporter.recurse\u001b[1;34m(self, tree, node_id, criterion, parent, depth)\u001b[0m\n\u001b[0;32m    517\u001b[0m \u001b[39melse\u001b[39;00m:\n\u001b[0;32m    518\u001b[0m     \u001b[39mself\u001b[39m\u001b[39m.\u001b[39mranks[\u001b[39mstr\u001b[39m(depth)]\u001b[39m.\u001b[39mappend(\u001b[39mstr\u001b[39m(node_id))\n\u001b[0;32m    520\u001b[0m \u001b[39mself\u001b[39m\u001b[39m.\u001b[39mout_file\u001b[39m.\u001b[39mwrite(\n\u001b[1;32m--> 521\u001b[0m     \u001b[39m\"\u001b[39m\u001b[39m%d\u001b[39;00m\u001b[39m [label=\u001b[39m\u001b[39m%s\u001b[39;00m\u001b[39m\"\u001b[39m \u001b[39m%\u001b[39m (node_id, \u001b[39mself\u001b[39;49m\u001b[39m.\u001b[39;49mnode_to_str(tree, node_id, criterion))\n\u001b[0;32m    522\u001b[0m )\n\u001b[0;32m    524\u001b[0m \u001b[39mif\u001b[39;00m \u001b[39mself\u001b[39m\u001b[39m.\u001b[39mfilled:\n\u001b[0;32m    525\u001b[0m     \u001b[39mself\u001b[39m\u001b[39m.\u001b[39mout_file\u001b[39m.\u001b[39mwrite(\n\u001b[0;32m    526\u001b[0m         \u001b[39m'\u001b[39m\u001b[39m, fillcolor=\u001b[39m\u001b[39m\"\u001b[39m\u001b[39m%s\u001b[39;00m\u001b[39m\"\u001b[39m\u001b[39m'\u001b[39m \u001b[39m%\u001b[39m \u001b[39mself\u001b[39m\u001b[39m.\u001b[39mget_fill_color(tree, node_id)\n\u001b[0;32m    527\u001b[0m     )\n",
      "File \u001b[1;32mc:\\ProgramData\\Anaconda3\\envs\\thisone\\lib\\site-packages\\sklearn\\tree\\_export.py:367\u001b[0m, in \u001b[0;36m_BaseTreeExporter.node_to_str\u001b[1;34m(self, tree, node_id, criterion)\u001b[0m\n\u001b[0;32m    365\u001b[0m     node_string \u001b[39m+\u001b[39m\u001b[39m=\u001b[39m \u001b[39m\"\u001b[39m\u001b[39mclass = \u001b[39m\u001b[39m\"\u001b[39m\n\u001b[0;32m    366\u001b[0m \u001b[39mif\u001b[39;00m \u001b[39mself\u001b[39m\u001b[39m.\u001b[39mclass_names \u001b[39mis\u001b[39;00m \u001b[39mnot\u001b[39;00m \u001b[39mTrue\u001b[39;00m:\n\u001b[1;32m--> 367\u001b[0m     class_name \u001b[39m=\u001b[39m \u001b[39mself\u001b[39;49m\u001b[39m.\u001b[39;49mclass_names[np\u001b[39m.\u001b[39;49margmax(value)]\n\u001b[0;32m    368\u001b[0m \u001b[39melse\u001b[39;00m:\n\u001b[0;32m    369\u001b[0m     class_name \u001b[39m=\u001b[39m \u001b[39m\"\u001b[39m\u001b[39my\u001b[39m\u001b[39m%s\u001b[39;00m\u001b[39m%s\u001b[39;00m\u001b[39m%s\u001b[39;00m\u001b[39m\"\u001b[39m \u001b[39m%\u001b[39m (\n\u001b[0;32m    370\u001b[0m         characters[\u001b[39m1\u001b[39m],\n\u001b[0;32m    371\u001b[0m         np\u001b[39m.\u001b[39margmax(value),\n\u001b[0;32m    372\u001b[0m         characters[\u001b[39m2\u001b[39m],\n\u001b[0;32m    373\u001b[0m     )\n",
      "\u001b[1;31mIndexError\u001b[0m: list index out of range"
     ]
    }
   ],
   "source": [
    "dot_data = tree.export_graphviz(clf, out_file=None, feature_names=transformed_df.columns.tolist(),\n",
    "                                class_names=target.columns.tolist(), filled=True, rounded=True, special_characters=True)\n",
    "graph = graphviz.Source(dot_data)  \n",
    "graph "
   ]
  },
  {
   "cell_type": "code",
   "execution_count": 55,
   "metadata": {},
   "outputs": [],
   "source": [
    "# enc = OneHotEncoder(handle_unknown='ignore')\n",
    "\n",
    "# job = [[\"admin.\",1], [\"unknown\",2], [\"unemployed\",3], [\"management\",4], [\"housemaid\",5], [\"entrepreneur\",6], [\"student\",7], [\"blue-collar\",8], [\"self-employed\",9], [\"retired\",10], [\"technician\",11], [\"services\",12]]\n",
    "# marital = [[\"married\",1], [\"divorced\",2], [\"single\",3]]\n",
    "# education = [[\"unknown\",1], [\"secondary\",2], [\"primary\",3], [\"tertiary\",4]]\n",
    "# default = [[\"yes\",1], [\"no\",2]]\n",
    "# housing = [[\"yes\",1], [\"no\",2]]\n",
    "# loan = [[\"yes\", 1], [\"no\", 2]]\n",
    "# contact = [[\"unknown\",1], [\"telephone\",2], [\"cellular\",3]]\n",
    "# month = [[\"jan\",1], [\"feb\",2], [\"mar\",3], [\"apr\",4], [\"may\",5], [\"jun\",6], [\"jul\",7], [\"aug\",8], [\"sep\",9], [\"oct\",10], [\"nov\",11], [\"dec\",12]]\n",
    "# poutcome = [[\"unknown\", 1], [\"other\", 2], [\"failure\", 3], [\"success\", 4]]\n",
    "# y =[[\"yes\", 1], [\"no\", 2]]\n",
    "\n",
    "\n",
    "# # enc.fit([job, marital, education, default, housing, loan, contact, month, poutcome, y])\n",
    "# enc.fit(job)\n",
    "\n",
    "# enc.categories_\n",
    "# enc.transform(job).toarray()\n",
    "\n",
    "# enc.inverse_transform([[0, 1, 1, 0, 0, 3, 4, 6, 3, 2, 7, 12], [\n",
    "#                       0, 0, 0, 1, 0, 11, 10, 9, 9,8,7]])\n",
    "\n",
    "# # enc.get_feature_names_out(['gender', 'group'])\n"
   ]
  },
  {
   "cell_type": "code",
   "execution_count": 8,
   "metadata": {},
   "outputs": [],
   "source": [
    "# pipe = make_pipeline(StandardScaler(), LogisticRegression(), verbose=True)\n",
    "\n",
    "# X, y = load_iris(return_X_y=True)\n",
    "# X_train, X_test, y_train, y_test = train_test_split(X, y, random_state=0)\n",
    "# pipe.fit(X_train, y_train)\n",
    "# accuracy_score(pipe.predict(X_test), y_test)\n"
   ]
  },
  {
   "cell_type": "code",
   "execution_count": 9,
   "metadata": {},
   "outputs": [],
   "source": [
    "# ageBins = [18, 34, 50, 70, 88, 95]\n",
    "# df['age_groups'] = pd.cut(df['age'], ageBins)\n",
    "# print(df[['age', 'age_groups']])\n"
   ]
  },
  {
   "cell_type": "code",
   "execution_count": 57,
   "metadata": {},
   "outputs": [],
   "source": [
    "# Switch all categorical vallues to numerical\n",
    "# useColumns.job = useColumns.job.replace([\"admin.\", \"unknown\", \"unemployed\", \"management\", \"housemaid\", \"entrepreneur\", \"student\",\n",
    "#                         \"blue-collar\", \"self-employed\", \"retired\", \"technician\", \"services\"], [1, 2, 3, 4, 5, 6, 7, 8, 9, 10, 11, 12])\n",
    "# useColumns = pd.get_dummies(useColumns, columns=['job'], prefix='job', prefix_sep='')\n",
    "\n",
    "\n",
    "# useColumns.marital = useColumns.marital.replace([\"married\", \"divorced\", \"single\"], [1, 2, 3])\n",
    "# useColumns = pd.get_dummies(useColumns, columns=['marital'], prefix='marital', prefix_sep='')\n",
    "\n",
    "# df.education = df.education.replace(\n",
    "#     [\"unknown\", \"secondary\", \"primary\", \"tertiary\"], [1, 2, 3, 4])\n",
    "# df = pd.get_dummies(df, columns=['education'],\n",
    "#                     prefix='education', prefix_sep='')\n",
    "\n",
    "# df.default = df.default.replace([\"yes\", \"no\"], [1, 2])\n",
    "# df = pd.get_dummies(df, columns=['default'], prefix='default', prefix_sep='')\n",
    "\n",
    "# df.housing = df.housing.replace([\"yes\", \"no\"], [1, 2])\n",
    "# df = pd.get_dummies(df, columns=['housing'], prefix='housing', prefix_sep='')\n",
    "\n",
    "# df.loan = df.loan.replace([\"yes\", \"no\"], [1, 2])\n",
    "# df = pd.get_dummies(df, columns=['loan'], prefix='loan', prefix_sep='')\n",
    "\n",
    "# df.contact = df.contact.replace(\n",
    "#     [\"unknown\", \"telephone\", \"cellular\"], [1, 2, 3])\n",
    "# df = pd.get_dummies(df, columns=['contact'], prefix='contact', prefix_sep='')\n",
    "\n",
    "# df.month = df.month.replace([\"jan\", \"feb\", \"mar\", \"apr\", \"may\", \"jun\", \"jul\",\n",
    "#                             \"aug\", \"sep\", \"oct\", \"nov\", \"dec\"], [1, 2, 3, 4, 5, 6, 7, 8, 9, 10, 11, 12])\n",
    "# # df = pd.get_dummies(df, columns=['month'], prefix='month', prefix_sep='')\n",
    "\n",
    "# df.poutcome = df.poutcome.replace(\n",
    "#     [\"unknown\", \"other\", \"failure\", \"success\"], [2, 3, 0, 1])\n",
    "# df = pd.get_dummies(df, columns=['poutcome'], prefix='poutcome', prefix_sep='')\n",
    "\n",
    "# df.y = df.y.replace([\"yes\", \"no\"], [1, 0])\n",
    "# df = pd.get_dummies(df, columns=['y'], prefix='y', prefix_sep='')\n",
    "\n",
    "\n",
    "# # print(df.isna().sum())\n"
   ]
  }
 ],
 "metadata": {
  "kernelspec": {
   "display_name": "Python 3.10.6 ('thisone')",
   "language": "python",
   "name": "python3"
  },
  "language_info": {
   "codemirror_mode": {
    "name": "ipython",
    "version": 3
   },
   "file_extension": ".py",
   "mimetype": "text/x-python",
   "name": "python",
   "nbconvert_exporter": "python",
   "pygments_lexer": "ipython3",
   "version": "3.10.6"
  },
  "orig_nbformat": 4,
  "vscode": {
   "interpreter": {
    "hash": "7996a5cd28996b69f6427e562b95ceb603a092331acdb6a620e160fb7b86c167"
   }
  }
 },
 "nbformat": 4,
 "nbformat_minor": 2
}
