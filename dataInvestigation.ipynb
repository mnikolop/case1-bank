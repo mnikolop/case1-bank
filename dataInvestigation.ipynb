{
 "cells": [
  {
   "cell_type": "code",
   "execution_count": 2,
   "metadata": {},
   "outputs": [],
   "source": [
    "#Import libraries\n",
    "import numpy as np #basic scientific computation \n",
    "import pandas as pd #for data science\n",
    "import scipy\n",
    "import matplotlib.pyplot as plt #ploting \n",
    "import seaborn as sns; sns.set_style(\"darkgrid\") #ploting\n",
    "my_dpi=96 #dots per inch. Used in the size of the plots\n",
    "\n",
    "import csv #library for handling csv files \n",
    "\n",
    "import statsmodels.api as sm #library for statistical modeling"
   ]
  },
  {
   "cell_type": "code",
   "execution_count": 84,
   "metadata": {},
   "outputs": [],
   "source": [
    "df = pd.read_csv('bank-additional/bank-additional/bank-additional-full.csv', sep=';')\n",
    "dfOld = pd.read_csv('bank/bank-full.csv', sep=';')\n"
   ]
  },
  {
   "cell_type": "code",
   "execution_count": 67,
   "metadata": {},
   "outputs": [],
   "source": [
    "# print(df.head(), \"\\n\")  \n",
    "# print(df.describe(), \"\\n\")\n",
    "# print(df.dtypes, \"\\n\")\n",
    "\n"
   ]
  },
  {
   "cell_type": "code",
   "execution_count": 47,
   "metadata": {},
   "outputs": [
    {
     "name": "stdout",
     "output_type": "stream",
     "text": [
      "age           int64\n",
      "job          object\n",
      "marital      object\n",
      "education    object\n",
      "default      object\n",
      "balance       int64\n",
      "housing      object\n",
      "loan         object\n",
      "contact      object\n",
      "day           int64\n",
      "month        object\n",
      "duration      int64\n",
      "campaign      int64\n",
      "pdays         int64\n",
      "previous      int64\n",
      "poutcome     object\n",
      "y            object\n",
      "dtype: object \n",
      "\n"
     ]
    }
   ],
   "source": [
    "# print(dfOld.describe(), \"\\n\")\n",
    "print(dfOld.dtypes, \"\\n\")\n"
   ]
  },
  {
   "cell_type": "code",
   "execution_count": 89,
   "metadata": {},
   "outputs": [
    {
     "data": {
      "text/plain": [
       "count     45211\n",
       "unique        2\n",
       "top          no\n",
       "freq      39922\n",
       "Name: y, dtype: object"
      ]
     },
     "execution_count": 89,
     "metadata": {},
     "output_type": "execute_result"
    },
    {
     "data": {
      "image/png": "[encoded data removed]",
      "text/plain": [
       "<Figure size 432x288 with 1 Axes>"
      ]
     },
     "metadata": {},
     "output_type": "display_data"
    }
   ],
   "source": [
    "# dfOld.age.value_counts().plot(kind='bar')\n",
    "# dfOld.age.describe()\n",
    "# # df.age.tolist() ##this needs to be made into age groups\n",
    "# dfOld.job.value_counts()[:100].plot(kind='bar')\n",
    "# dfOld.job.describe()##this needs to be a float\n",
    "# dfOld.marital.value_counts().plot(kind='bar')\n",
    "# dfOld.marital.describe()\n",
    "# dfOld.education.value_counts().plot(kind='bar')\n",
    "# dfOld.education.describe()\n",
    "# dfOld.default.value_counts().plot(kind='bar')\n",
    "# dfOld.default.describe()\n",
    "# dfOld.balance.value_counts().plot(kind='kde')\n",
    "# dfOld.balance.describe()\n",
    "# dfOld.housing.value_counts().plot(kind='bar')\n",
    "# dfOld.housing.describe()\n",
    "# dfOld.loan.value_counts().plot(kind='bar')\n",
    "# dfOld.loan.describe()\n",
    "# dfOld.contact.value_counts().plot(kind='bar')\n",
    "# dfOld.contact.describe()\n",
    "# dfOld.day.value_counts().plot(kind='bar')\n",
    "# dfOld.day.describe()\n",
    "# dfOld.month.value_counts().plot(kind='bar')\n",
    "# dfOld.month.describe()\n",
    "# dfOld.duration.value_counts().plot(kind='kde')\n",
    "# dfOld.duration.describe()\n",
    "# dfOld.campaign.value_counts().plot(kind='bar')\n",
    "# dfOld.campaign.describe() ## This needs to be an int\n",
    "# dfOld.pdays.value_counts()[:100].plot(kind='bar')\n",
    "# dfOld.pdays.describe() ## this needs fixing. This is maybe teh unbalanced part? this needs to be int!\n",
    "# dfOld.pdays.value_counts()\n",
    "# dfOld.previous.value_counts().plot(kind='bar')\n",
    "# dfOld.previous.describe() ##this needs to be int\n",
    "# dfOld.poutcome.value_counts().plot(kind='bar')\n",
    "# dfOld.poutcome.describe() ##need to define what \"other\" means\n",
    "dfOld.y.value_counts().plot(kind='bar')\n",
    "dfOld.y.describe()\n",
    "\n"
   ]
  }
 ],
 "metadata": {
  "kernelspec": {
   "display_name": "Python 3.9.12",
   "language": "python",
   "name": "python3"
  },
  "language_info": {
   "codemirror_mode": {
    "name": "ipython",
    "version": 3
   },
   "file_extension": ".py",
   "mimetype": "text/x-python",
   "name": "python",
   "nbconvert_exporter": "python",
   "pygments_lexer": "ipython3",
   "version": "3.9.12"
  },
  "orig_nbformat": 4,
  "vscode": {
   "interpreter": {
    "hash": "72ff89a3a4bae3f56a78a032d8e578cdc0c7bba2c01b6e51154ecbbe8075631c"
   }
  }
 },
 "nbformat": 4,
 "nbformat_minor": 2
}
