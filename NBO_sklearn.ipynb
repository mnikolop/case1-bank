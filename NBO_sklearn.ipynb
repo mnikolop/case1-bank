{
 "cells": [
  {
   "cell_type": "code",
   "execution_count": 46,
   "metadata": {},
   "outputs": [],
   "source": [
    "#Import libraries\n",
    "import sklearn \n",
    "from sklearn.preprocessing import StandardScaler\n",
    "from sklearn.linear_model import LogisticRegression\n",
    "from sklearn.pipeline import Pipeline\n",
    "from sklearn.pipeline import make_pipeline\n",
    "from sklearn.datasets import load_iris\n",
    "from sklearn.model_selection import train_test_split\n",
    "from sklearn.metrics import accuracy_score\n",
    "from sklearn.decomposition import PCA\n",
    "from sklearn.svm import SVC\n",
    "from sklearn.tree import plot_tree\n",
    "from sklearn.tree import DecisionTreeClassifier\n",
    "from sklearn.model_selection import cross_val_score\n",
    "from sklearn.datasets import load_iris\n",
    "from sklearn import tree\n",
    "from sklearn.preprocessing import OneHotEncoder\n",
    "from sklearn.compose import make_column_transformer\n",
    "\n",
    "# import tensorflow as tf  # acts as the framework upon which this model is built\n",
    "import numpy as np  # basic scientific computation\n",
    "import pandas as pd #for data science\n",
    "import scipy\n",
    "import matplotlib.pyplot as plt #ploting \n",
    "import seaborn as sns; sns.set_style('darkgrid') #ploting\n",
    "my_dpi=96 #dots per inch. Used in the size of the plots\n",
    " \n",
    "import csv #library for handling csv files \n",
    "\n",
    "\n"
   ]
  },
  {
   "cell_type": "code",
   "execution_count": 58,
   "metadata": {},
   "outputs": [],
   "source": [
    "df = pd.read_csv('bank/bank-full.csv', sep=';')"
   ]
  },
  {
   "cell_type": "code",
   "execution_count": 60,
   "metadata": {},
   "outputs": [],
   "source": [
    "\n",
    "# Group age by percentages of 10\n",
    "labels = [0] + [f'{i+10}' for i in range(10, 100, 10)]\n",
    "df['age_groups'] = pd.qcut(df['age'], 10, labels=labels)\n",
    "df.age_groups = df.age_groups.astype(\"int\")\n",
    "# print(df[['age', 'age_groups']])\n"
   ]
  },
  {
   "cell_type": "code",
   "execution_count": 61,
   "metadata": {},
   "outputs": [],
   "source": [
    "# Split useable and target group\n",
    "useColumns = df[['age', 'age_groups', 'job', 'marital',  'education', 'default', 'balance', 'housing', 'loan',\n",
    "                 'contact', 'day', 'month', 'duration', 'campaign', 'pdays', 'previous', 'poutcome']]\n",
    "target = df[['y']]\n"
   ]
  },
  {
   "cell_type": "code",
   "execution_count": 64,
   "metadata": {},
   "outputs": [
    {
     "name": "stderr",
     "output_type": "stream",
     "text": [
      "c:\\ProgramData\\Anaconda3\\envs\\thisone\\lib\\site-packages\\sklearn\\utils\\deprecation.py:87: FutureWarning: Function get_feature_names is deprecated; get_feature_names is deprecated in 1.0 and will be removed in 1.2. Please use get_feature_names_out instead.\n",
      "  warnings.warn(msg, category=FutureWarning)\n"
     ]
    }
   ],
   "source": [
    "\n",
    "transformer = make_column_transformer(\n",
    "    (OneHotEncoder(), ['job', 'marital', 'education', 'default', 'housing', 'loan', 'contact', 'month', 'poutcome']),\n",
    "    remainder='passthrough')\n",
    "transformed = transformer.fit_transform(useColumns)\n",
    "transformed_df = pd.DataFrame(\n",
    "    transformed, columns=transformer.get_feature_names())\n",
    "# print(transformed_df.head())\n"
   ]
  },
  {
   "cell_type": "code",
   "execution_count": 56,
   "metadata": {},
   "outputs": [],
   "source": [
    "# Correlation of variables.\n",
    "# df.corr()"
   ]
  },
  {
   "cell_type": "code",
   "execution_count": 66,
   "metadata": {},
   "outputs": [],
   "source": [
    "clf = tree.DecisionTreeClassifier()\n",
    "clf = clf.fit(transformed_df, target)\n"
   ]
  },
  {
   "cell_type": "code",
   "execution_count": 67,
   "metadata": {},
   "outputs": [
    {
     "data": {
      "text/html": [
       "<style>#sk-container-id-4 {color: black;background-color: white;}#sk-container-id-4 pre{padding: 0;}#sk-container-id-4 div.sk-toggleable {background-color: white;}#sk-container-id-4 label.sk-toggleable__label {cursor: pointer;display: block;width: 100%;margin-bottom: 0;padding: 0.3em;box-sizing: border-box;text-align: center;}#sk-container-id-4 label.sk-toggleable__label-arrow:before {content: \"▸\";float: left;margin-right: 0.25em;color: #696969;}#sk-container-id-4 label.sk-toggleable__label-arrow:hover:before {color: black;}#sk-container-id-4 div.sk-estimator:hover label.sk-toggleable__label-arrow:before {color: black;}#sk-container-id-4 div.sk-toggleable__content {max-height: 0;max-width: 0;overflow: hidden;text-align: left;background-color: #f0f8ff;}#sk-container-id-4 div.sk-toggleable__content pre {margin: 0.2em;color: black;border-radius: 0.25em;background-color: #f0f8ff;}#sk-container-id-4 input.sk-toggleable__control:checked~div.sk-toggleable__content {max-height: 200px;max-width: 100%;overflow: auto;}#sk-container-id-4 input.sk-toggleable__control:checked~label.sk-toggleable__label-arrow:before {content: \"▾\";}#sk-container-id-4 div.sk-estimator input.sk-toggleable__control:checked~label.sk-toggleable__label {background-color: #d4ebff;}#sk-container-id-4 div.sk-label input.sk-toggleable__control:checked~label.sk-toggleable__label {background-color: #d4ebff;}#sk-container-id-4 input.sk-hidden--visually {border: 0;clip: rect(1px 1px 1px 1px);clip: rect(1px, 1px, 1px, 1px);height: 1px;margin: -1px;overflow: hidden;padding: 0;position: absolute;width: 1px;}#sk-container-id-4 div.sk-estimator {font-family: monospace;background-color: #f0f8ff;border: 1px dotted black;border-radius: 0.25em;box-sizing: border-box;margin-bottom: 0.5em;}#sk-container-id-4 div.sk-estimator:hover {background-color: #d4ebff;}#sk-container-id-4 div.sk-parallel-item::after {content: \"\";width: 100%;border-bottom: 1px solid gray;flex-grow: 1;}#sk-container-id-4 div.sk-label:hover label.sk-toggleable__label {background-color: #d4ebff;}#sk-container-id-4 div.sk-serial::before {content: \"\";position: absolute;border-left: 1px solid gray;box-sizing: border-box;top: 0;bottom: 0;left: 50%;z-index: 0;}#sk-container-id-4 div.sk-serial {display: flex;flex-direction: column;align-items: center;background-color: white;padding-right: 0.2em;padding-left: 0.2em;position: relative;}#sk-container-id-4 div.sk-item {position: relative;z-index: 1;}#sk-container-id-4 div.sk-parallel {display: flex;align-items: stretch;justify-content: center;background-color: white;position: relative;}#sk-container-id-4 div.sk-item::before, #sk-container-id-4 div.sk-parallel-item::before {content: \"\";position: absolute;border-left: 1px solid gray;box-sizing: border-box;top: 0;bottom: 0;left: 50%;z-index: -1;}#sk-container-id-4 div.sk-parallel-item {display: flex;flex-direction: column;z-index: 1;position: relative;background-color: white;}#sk-container-id-4 div.sk-parallel-item:first-child::after {align-self: flex-end;width: 50%;}#sk-container-id-4 div.sk-parallel-item:last-child::after {align-self: flex-start;width: 50%;}#sk-container-id-4 div.sk-parallel-item:only-child::after {width: 0;}#sk-container-id-4 div.sk-dashed-wrapped {border: 1px dashed gray;margin: 0 0.4em 0.5em 0.4em;box-sizing: border-box;padding-bottom: 0.4em;background-color: white;}#sk-container-id-4 div.sk-label label {font-family: monospace;font-weight: bold;display: inline-block;line-height: 1.2em;}#sk-container-id-4 div.sk-label-container {text-align: center;}#sk-container-id-4 div.sk-container {/* jupyter's `normalize.less` sets `[hidden] { display: none; }` but bootstrap.min.css set `[hidden] { display: none !important; }` so we also need the `!important` here to be able to override the default hidden behavior on the sphinx rendered scikit-learn.org. See: https://github.com/scikit-learn/scikit-learn/issues/21755 */display: inline-block !important;position: relative;}#sk-container-id-4 div.sk-text-repr-fallback {display: none;}</style><div id=\"sk-container-id-4\" class=\"sk-top-container\"><div class=\"sk-text-repr-fallback\"><pre>DecisionTreeClassifier()</pre><b>In a Jupyter environment, please rerun this cell to show the HTML representation or trust the notebook. <br />On GitHub, the HTML representation is unable to render, please try loading this page with nbviewer.org.</b></div><div class=\"sk-container\" hidden><div class=\"sk-item\"><div class=\"sk-estimator sk-toggleable\"><input class=\"sk-toggleable__control sk-hidden--visually\" id=\"sk-estimator-id-8\" type=\"checkbox\" checked><label for=\"sk-estimator-id-8\" class=\"sk-toggleable__label sk-toggleable__label-arrow\">DecisionTreeClassifier</label><div class=\"sk-toggleable__content\"><pre>DecisionTreeClassifier()</pre></div></div></div></div></div>"
      ],
      "text/plain": [
       "DecisionTreeClassifier()"
      ]
     },
     "execution_count": 67,
     "metadata": {},
     "output_type": "execute_result"
    }
   ],
   "source": [
    "clf"
   ]
  },
  {
   "cell_type": "code",
   "execution_count": 55,
   "metadata": {},
   "outputs": [],
   "source": [
    "# enc = OneHotEncoder(handle_unknown='ignore')\n",
    "\n",
    "# job = [[\"admin.\",1], [\"unknown\",2], [\"unemployed\",3], [\"management\",4], [\"housemaid\",5], [\"entrepreneur\",6], [\"student\",7], [\"blue-collar\",8], [\"self-employed\",9], [\"retired\",10], [\"technician\",11], [\"services\",12]]\n",
    "# marital = [[\"married\",1], [\"divorced\",2], [\"single\",3]]\n",
    "# education = [[\"unknown\",1], [\"secondary\",2], [\"primary\",3], [\"tertiary\",4]]\n",
    "# default = [[\"yes\",1], [\"no\",2]]\n",
    "# housing = [[\"yes\",1], [\"no\",2]]\n",
    "# loan = [[\"yes\", 1], [\"no\", 2]]\n",
    "# contact = [[\"unknown\",1], [\"telephone\",2], [\"cellular\",3]]\n",
    "# month = [[\"jan\",1], [\"feb\",2], [\"mar\",3], [\"apr\",4], [\"may\",5], [\"jun\",6], [\"jul\",7], [\"aug\",8], [\"sep\",9], [\"oct\",10], [\"nov\",11], [\"dec\",12]]\n",
    "# poutcome = [[\"unknown\", 1], [\"other\", 2], [\"failure\", 3], [\"success\", 4]]\n",
    "# y =[[\"yes\", 1], [\"no\", 2]]\n",
    "\n",
    "\n",
    "# # enc.fit([job, marital, education, default, housing, loan, contact, month, poutcome, y])\n",
    "# enc.fit(job)\n",
    "\n",
    "# enc.categories_\n",
    "# enc.transform(job).toarray()\n",
    "\n",
    "# enc.inverse_transform([[0, 1, 1, 0, 0, 3, 4, 6, 3, 2, 7, 12], [\n",
    "#                       0, 0, 0, 1, 0, 11, 10, 9, 9,8,7]])\n",
    "\n",
    "# # enc.get_feature_names_out(['gender', 'group'])\n"
   ]
  },
  {
   "cell_type": "code",
   "execution_count": 8,
   "metadata": {},
   "outputs": [],
   "source": [
    "# pipe = make_pipeline(StandardScaler(), LogisticRegression(), verbose=True)\n",
    "\n",
    "# X, y = load_iris(return_X_y=True)\n",
    "# X_train, X_test, y_train, y_test = train_test_split(X, y, random_state=0)\n",
    "# pipe.fit(X_train, y_train)\n",
    "# accuracy_score(pipe.predict(X_test), y_test)\n"
   ]
  },
  {
   "cell_type": "code",
   "execution_count": 9,
   "metadata": {},
   "outputs": [],
   "source": [
    "# ageBins = [18, 34, 50, 70, 88, 95]\n",
    "# df['age_groups'] = pd.cut(df['age'], ageBins)\n",
    "# print(df[['age', 'age_groups']])\n"
   ]
  },
  {
   "cell_type": "code",
   "execution_count": 57,
   "metadata": {},
   "outputs": [],
   "source": [
    "# Switch all categorical vallues to numerical\n",
    "# useColumns.job = useColumns.job.replace([\"admin.\", \"unknown\", \"unemployed\", \"management\", \"housemaid\", \"entrepreneur\", \"student\",\n",
    "#                         \"blue-collar\", \"self-employed\", \"retired\", \"technician\", \"services\"], [1, 2, 3, 4, 5, 6, 7, 8, 9, 10, 11, 12])\n",
    "# useColumns = pd.get_dummies(useColumns, columns=['job'], prefix='job', prefix_sep='')\n",
    "\n",
    "\n",
    "# useColumns.marital = useColumns.marital.replace([\"married\", \"divorced\", \"single\"], [1, 2, 3])\n",
    "# useColumns = pd.get_dummies(useColumns, columns=['marital'], prefix='marital', prefix_sep='')\n",
    "\n",
    "# df.education = df.education.replace(\n",
    "#     [\"unknown\", \"secondary\", \"primary\", \"tertiary\"], [1, 2, 3, 4])\n",
    "# df = pd.get_dummies(df, columns=['education'],\n",
    "#                     prefix='education', prefix_sep='')\n",
    "\n",
    "# df.default = df.default.replace([\"yes\", \"no\"], [1, 2])\n",
    "# df = pd.get_dummies(df, columns=['default'], prefix='default', prefix_sep='')\n",
    "\n",
    "# df.housing = df.housing.replace([\"yes\", \"no\"], [1, 2])\n",
    "# df = pd.get_dummies(df, columns=['housing'], prefix='housing', prefix_sep='')\n",
    "\n",
    "# df.loan = df.loan.replace([\"yes\", \"no\"], [1, 2])\n",
    "# df = pd.get_dummies(df, columns=['loan'], prefix='loan', prefix_sep='')\n",
    "\n",
    "# df.contact = df.contact.replace(\n",
    "#     [\"unknown\", \"telephone\", \"cellular\"], [1, 2, 3])\n",
    "# df = pd.get_dummies(df, columns=['contact'], prefix='contact', prefix_sep='')\n",
    "\n",
    "# df.month = df.month.replace([\"jan\", \"feb\", \"mar\", \"apr\", \"may\", \"jun\", \"jul\",\n",
    "#                             \"aug\", \"sep\", \"oct\", \"nov\", \"dec\"], [1, 2, 3, 4, 5, 6, 7, 8, 9, 10, 11, 12])\n",
    "# # df = pd.get_dummies(df, columns=['month'], prefix='month', prefix_sep='')\n",
    "\n",
    "# df.poutcome = df.poutcome.replace(\n",
    "#     [\"unknown\", \"other\", \"failure\", \"success\"], [2, 3, 0, 1])\n",
    "# df = pd.get_dummies(df, columns=['poutcome'], prefix='poutcome', prefix_sep='')\n",
    "\n",
    "# df.y = df.y.replace([\"yes\", \"no\"], [1, 0])\n",
    "# df = pd.get_dummies(df, columns=['y'], prefix='y', prefix_sep='')\n",
    "\n",
    "\n",
    "# # print(df.isna().sum())\n"
   ]
  }
 ],
 "metadata": {
  "kernelspec": {
   "display_name": "Python 3.10.6 ('thisone')",
   "language": "python",
   "name": "python3"
  },
  "language_info": {
   "codemirror_mode": {
    "name": "ipython",
    "version": 3
   },
   "file_extension": ".py",
   "mimetype": "text/x-python",
   "name": "python",
   "nbconvert_exporter": "python",
   "pygments_lexer": "ipython3",
   "version": "3.10.6"
  },
  "orig_nbformat": 4,
  "vscode": {
   "interpreter": {
    "hash": "7996a5cd28996b69f6427e562b95ceb603a092331acdb6a620e160fb7b86c167"
   }
  }
 },
 "nbformat": 4,
 "nbformat_minor": 2
}
